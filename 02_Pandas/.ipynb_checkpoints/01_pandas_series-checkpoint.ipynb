{
 "cells": [
  {
   "cell_type": "code",
   "execution_count": 1,
   "id": "8fdfa7ab",
   "metadata": {},
   "outputs": [],
   "source": [
    "import numpy as np"
   ]
  },
  {
   "cell_type": "code",
   "execution_count": 2,
   "id": "9a6bfd5d",
   "metadata": {},
   "outputs": [],
   "source": [
    "import pandas as pd"
   ]
  },
  {
   "cell_type": "code",
   "execution_count": 3,
   "id": "f4614320",
   "metadata": {},
   "outputs": [],
   "source": [
    "myindex = ['USA','Canada','Mexico']"
   ]
  },
  {
   "cell_type": "code",
   "execution_count": 4,
   "id": "4e873eff",
   "metadata": {},
   "outputs": [],
   "source": [
    "mydata = [1222,1223,2134]"
   ]
  },
  {
   "cell_type": "markdown",
   "id": "36294b82",
   "metadata": {},
   "source": [
    "Create a pandas series using the pd.Series(data=your_data,index=your_index)"
   ]
  },
  {
   "cell_type": "code",
   "execution_count": 5,
   "id": "80b8681d",
   "metadata": {},
   "outputs": [],
   "source": [
    "myser = pd.Series(data=mydata)"
   ]
  },
  {
   "cell_type": "code",
   "execution_count": 6,
   "id": "ab649f11",
   "metadata": {},
   "outputs": [
    {
     "data": {
      "text/plain": [
       "0    1222\n",
       "1    1223\n",
       "2    2134\n",
       "dtype: int64"
      ]
     },
     "execution_count": 6,
     "metadata": {},
     "output_type": "execute_result"
    }
   ],
   "source": [
    "myser"
   ]
  },
  {
   "cell_type": "markdown",
   "id": "abfba63e",
   "metadata": {},
   "source": [
    "If the index is not defined in the ps.Series() method then w by-default it takes 0 to n-1 index"
   ]
  },
  {
   "cell_type": "code",
   "execution_count": 7,
   "id": "358844b5",
   "metadata": {},
   "outputs": [],
   "source": [
    "myser = pd.Series(data=mydata,index=myindex)"
   ]
  },
  {
   "cell_type": "code",
   "execution_count": 8,
   "id": "c599f120",
   "metadata": {},
   "outputs": [
    {
     "data": {
      "text/plain": [
       "USA       1222\n",
       "Canada    1223\n",
       "Mexico    2134\n",
       "dtype: int64"
      ]
     },
     "execution_count": 8,
     "metadata": {},
     "output_type": "execute_result"
    }
   ],
   "source": [
    "myser"
   ]
  },
  {
   "cell_type": "code",
   "execution_count": 9,
   "id": "3a7b85c8",
   "metadata": {},
   "outputs": [
    {
     "data": {
      "text/plain": [
       "1222"
      ]
     },
     "execution_count": 9,
     "metadata": {},
     "output_type": "execute_result"
    }
   ],
   "source": [
    "myser[0]"
   ]
  },
  {
   "cell_type": "code",
   "execution_count": 10,
   "id": "bfb42cd7",
   "metadata": {},
   "outputs": [
    {
     "data": {
      "text/plain": [
       "1222"
      ]
     },
     "execution_count": 10,
     "metadata": {},
     "output_type": "execute_result"
    }
   ],
   "source": [
    "myser['USA']"
   ]
  },
  {
   "cell_type": "markdown",
   "id": "65fa7b9b",
   "metadata": {},
   "source": [
    "Create series using dictionaries"
   ]
  },
  {
   "cell_type": "code",
   "execution_count": 11,
   "id": "2cc6639e",
   "metadata": {},
   "outputs": [],
   "source": [
    "ages = {'Aalam':20,'Asad':21,'Adnan':23}"
   ]
  },
  {
   "cell_type": "code",
   "execution_count": 12,
   "id": "9d0ac8cd",
   "metadata": {},
   "outputs": [],
   "source": [
    "myser1 = pd.Series(ages)"
   ]
  },
  {
   "cell_type": "code",
   "execution_count": 13,
   "id": "43c1c294",
   "metadata": {},
   "outputs": [
    {
     "data": {
      "text/plain": [
       "Aalam    20\n",
       "Asad     21\n",
       "Adnan    23\n",
       "dtype: int64"
      ]
     },
     "execution_count": 13,
     "metadata": {},
     "output_type": "execute_result"
    }
   ],
   "source": [
    "myser1"
   ]
  },
  {
   "cell_type": "code",
   "execution_count": 14,
   "id": "20123fdb",
   "metadata": {},
   "outputs": [],
   "source": [
    "q1 = {'Japan': 80, 'China': 450, 'India': 200, 'USA': 250}\n",
    "q2 = {'Brazil': 100,'China': 500, 'India': 210,'USA': 260}"
   ]
  },
  {
   "cell_type": "code",
   "execution_count": 16,
   "id": "c01e0534",
   "metadata": {},
   "outputs": [],
   "source": [
    "sales_q1 = pd.Series(q1)"
   ]
  },
  {
   "cell_type": "code",
   "execution_count": 17,
   "id": "e607e9a2",
   "metadata": {},
   "outputs": [],
   "source": [
    "sales_q2 = pd.Series(q2)"
   ]
  },
  {
   "cell_type": "code",
   "execution_count": 18,
   "id": "0d832afb",
   "metadata": {},
   "outputs": [
    {
     "data": {
      "text/plain": [
       "Japan     80\n",
       "China    450\n",
       "India    200\n",
       "USA      250\n",
       "dtype: int64"
      ]
     },
     "execution_count": 18,
     "metadata": {},
     "output_type": "execute_result"
    }
   ],
   "source": [
    "sales_q1"
   ]
  },
  {
   "cell_type": "code",
   "execution_count": 19,
   "id": "388fe99f",
   "metadata": {},
   "outputs": [
    {
     "data": {
      "text/plain": [
       "Brazil    100\n",
       "China     500\n",
       "India     210\n",
       "USA       260\n",
       "dtype: int64"
      ]
     },
     "execution_count": 19,
     "metadata": {},
     "output_type": "execute_result"
    }
   ],
   "source": [
    "sales_q2"
   ]
  },
  {
   "cell_type": "markdown",
   "id": "15b12ddd",
   "metadata": {},
   "source": [
    " To check the keys present in the serries use series_name.keys()"
   ]
  },
  {
   "cell_type": "code",
   "execution_count": 22,
   "id": "2a193dcb",
   "metadata": {},
   "outputs": [
    {
     "data": {
      "text/plain": [
       "Index(['Japan', 'China', 'India', 'USA'], dtype='object')"
      ]
     },
     "execution_count": 22,
     "metadata": {},
     "output_type": "execute_result"
    }
   ],
   "source": [
    "sales_q1.keys()"
   ]
  },
  {
   "cell_type": "markdown",
   "id": "85aa7dfb",
   "metadata": {},
   "source": [
    "To perform the broadcast operations on a series,"
   ]
  },
  {
   "cell_type": "code",
   "execution_count": 23,
   "id": "17086aaf",
   "metadata": {},
   "outputs": [
    {
     "data": {
      "text/plain": [
       "Japan    160\n",
       "China    900\n",
       "India    400\n",
       "USA      500\n",
       "dtype: int64"
      ]
     },
     "execution_count": 23,
     "metadata": {},
     "output_type": "execute_result"
    }
   ],
   "source": [
    "sales_q1 * 2"
   ]
  },
  {
   "cell_type": "code",
   "execution_count": 24,
   "id": "15b3c584",
   "metadata": {},
   "outputs": [
    {
     "data": {
      "text/plain": [
       "Japan     40.0\n",
       "China    225.0\n",
       "India    100.0\n",
       "USA      125.0\n",
       "dtype: float64"
      ]
     },
     "execution_count": 24,
     "metadata": {},
     "output_type": "execute_result"
    }
   ],
   "source": [
    "sales_q1 / 2"
   ]
  },
  {
   "cell_type": "code",
   "execution_count": 25,
   "id": "c7c2e2c7",
   "metadata": {},
   "outputs": [
    {
     "data": {
      "text/plain": [
       "Japan     80\n",
       "China    450\n",
       "India    200\n",
       "USA      250\n",
       "dtype: int64"
      ]
     },
     "execution_count": 25,
     "metadata": {},
     "output_type": "execute_result"
    }
   ],
   "source": [
    "sales_q1"
   ]
  },
  {
   "cell_type": "code",
   "execution_count": 27,
   "id": "b3882608",
   "metadata": {},
   "outputs": [
    {
     "data": {
      "text/plain": [
       "Brazil    100\n",
       "China     500\n",
       "India     210\n",
       "USA       260\n",
       "dtype: int64"
      ]
     },
     "execution_count": 27,
     "metadata": {},
     "output_type": "execute_result"
    }
   ],
   "source": [
    "sales_q2"
   ]
  },
  {
   "cell_type": "code",
   "execution_count": 28,
   "id": "08956036",
   "metadata": {},
   "outputs": [
    {
     "data": {
      "text/plain": [
       "Brazil      NaN\n",
       "China     950.0\n",
       "India     410.0\n",
       "Japan       NaN\n",
       "USA       510.0\n",
       "dtype: float64"
      ]
     },
     "execution_count": 28,
     "metadata": {},
     "output_type": "execute_result"
    }
   ],
   "source": [
    "sales_q1 + sales_q2"
   ]
  },
  {
   "cell_type": "markdown",
   "id": "ee5ed6e3",
   "metadata": {},
   "source": [
    "If the label is not present in both of the series then the resultant series will show Nan(not a number)"
   ]
  },
  {
   "cell_type": "markdown",
   "id": "6c928572",
   "metadata": {},
   "source": [
    "We can add two series using series1.add(series2) method"
   ]
  },
  {
   "cell_type": "code",
   "execution_count": 31,
   "id": "447523b4",
   "metadata": {},
   "outputs": [
    {
     "data": {
      "text/plain": [
       "Brazil    100.0\n",
       "China     950.0\n",
       "India     410.0\n",
       "Japan      80.0\n",
       "USA       510.0\n",
       "dtype: float64"
      ]
     },
     "execution_count": 31,
     "metadata": {},
     "output_type": "execute_result"
    }
   ],
   "source": [
    "sales_q1.add(sales_q2,fill_value=0)"
   ]
  },
  {
   "cell_type": "markdown",
   "id": "287ed286",
   "metadata": {},
   "source": [
    "By using the fill_value=0 in the add() method, we can fill the missing values"
   ]
  },
  {
   "cell_type": "code",
   "execution_count": null,
   "id": "a036423b",
   "metadata": {},
   "outputs": [],
   "source": []
  }
 ],
 "metadata": {
  "kernelspec": {
   "display_name": "Python 3 (ipykernel)",
   "language": "python",
   "name": "python3"
  },
  "language_info": {
   "codemirror_mode": {
    "name": "ipython",
    "version": 3
   },
   "file_extension": ".py",
   "mimetype": "text/x-python",
   "name": "python",
   "nbconvert_exporter": "python",
   "pygments_lexer": "ipython3",
   "version": "3.9.13"
  }
 },
 "nbformat": 4,
 "nbformat_minor": 5
}
