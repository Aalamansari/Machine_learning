{
 "cells": [
  {
   "cell_type": "code",
   "execution_count": 1,
   "id": "e2aabaa5",
   "metadata": {},
   "outputs": [],
   "source": [
    "import numpy as np"
   ]
  },
  {
   "cell_type": "markdown",
   "id": "35b0cc52",
   "metadata": {},
   "source": [
    "To make 1-D arrays from list, we can use np.array() function"
   ]
  },
  {
   "cell_type": "code",
   "execution_count": 2,
   "id": "cf572828",
   "metadata": {},
   "outputs": [],
   "source": [
    "mylist = [1,3,4]"
   ]
  },
  {
   "cell_type": "code",
   "execution_count": 3,
   "id": "6ec9eb64",
   "metadata": {},
   "outputs": [
    {
     "data": {
      "text/plain": [
       "list"
      ]
     },
     "execution_count": 3,
     "metadata": {},
     "output_type": "execute_result"
    }
   ],
   "source": [
    "type(mylist)"
   ]
  },
  {
   "cell_type": "code",
   "execution_count": 4,
   "id": "ff56e365",
   "metadata": {},
   "outputs": [
    {
     "data": {
      "text/plain": [
       "array([1, 3, 4])"
      ]
     },
     "execution_count": 4,
     "metadata": {},
     "output_type": "execute_result"
    }
   ],
   "source": [
    "np.array(mylist)"
   ]
  },
  {
   "cell_type": "markdown",
   "id": "f602581b",
   "metadata": {},
   "source": [
    "To permanently store the obtained array we need to make use of an variable"
   ]
  },
  {
   "cell_type": "code",
   "execution_count": 5,
   "id": "3c923d56",
   "metadata": {},
   "outputs": [],
   "source": [
    "arr = np.array(mylist)"
   ]
  },
  {
   "cell_type": "code",
   "execution_count": 12,
   "id": "ce067de2",
   "metadata": {},
   "outputs": [
    {
     "data": {
      "text/plain": [
       "numpy.ndarray"
      ]
     },
     "execution_count": 12,
     "metadata": {},
     "output_type": "execute_result"
    }
   ],
   "source": [
    "type(arr)"
   ]
  },
  {
   "cell_type": "code",
   "execution_count": 13,
   "id": "b0dcf8ae",
   "metadata": {
    "scrolled": true
   },
   "outputs": [
    {
     "data": {
      "text/plain": [
       "array([1, 3, 4])"
      ]
     },
     "execution_count": 13,
     "metadata": {},
     "output_type": "execute_result"
    }
   ],
   "source": [
    "arr"
   ]
  },
  {
   "cell_type": "markdown",
   "id": "f12b82d5",
   "metadata": {},
   "source": [
    "To make 2-D arrays from nested list, we can use np.array() function"
   ]
  },
  {
   "cell_type": "code",
   "execution_count": 8,
   "id": "0ab9727b",
   "metadata": {},
   "outputs": [],
   "source": [
    "list2 = [[2,3,4],[4,6,7],[7,9,6]]"
   ]
  },
  {
   "cell_type": "code",
   "execution_count": 14,
   "id": "414c58f1",
   "metadata": {},
   "outputs": [
    {
     "data": {
      "text/plain": [
       "[[2, 3, 4], [4, 6, 7], [7, 9, 6]]"
      ]
     },
     "execution_count": 14,
     "metadata": {},
     "output_type": "execute_result"
    }
   ],
   "source": [
    "list2"
   ]
  },
  {
   "cell_type": "code",
   "execution_count": 9,
   "id": "b2075286",
   "metadata": {
    "scrolled": true
   },
   "outputs": [
    {
     "data": {
      "text/plain": [
       "array([[2, 3, 4],\n",
       "       [4, 6, 7],\n",
       "       [7, 9, 6]])"
      ]
     },
     "execution_count": 9,
     "metadata": {},
     "output_type": "execute_result"
    }
   ],
   "source": [
    "np.array(list2)"
   ]
  },
  {
   "cell_type": "code",
   "execution_count": 10,
   "id": "24ac1001",
   "metadata": {},
   "outputs": [
    {
     "data": {
      "text/plain": [
       "numpy.ndarray"
      ]
     },
     "execution_count": 10,
     "metadata": {},
     "output_type": "execute_result"
    }
   ],
   "source": [
    "type(arr)"
   ]
  },
  {
   "cell_type": "markdown",
   "id": "11af32ee",
   "metadata": {},
   "source": [
    "We can create arrays directly by using np.arange(start,end,step) function. The resulting array will not include the end "
   ]
  },
  {
   "cell_type": "code",
   "execution_count": 15,
   "id": "7576238f",
   "metadata": {
    "scrolled": false
   },
   "outputs": [
    {
     "data": {
      "text/plain": [
       "array([ 0,  1,  2,  3,  4,  5,  6,  7,  8,  9, 10, 11, 12, 13, 14, 15, 16,\n",
       "       17, 18, 19, 20, 21, 22])"
      ]
     },
     "execution_count": 15,
     "metadata": {},
     "output_type": "execute_result"
    }
   ],
   "source": [
    "np.arange(0,23)"
   ]
  },
  {
   "cell_type": "markdown",
   "id": "ec7f7013",
   "metadata": {},
   "source": [
    "In the above code 23 is not included because the by-default step size is 1 so it stopped at 22"
   ]
  },
  {
   "cell_type": "code",
   "execution_count": 18,
   "id": "ef7326c2",
   "metadata": {},
   "outputs": [
    {
     "data": {
      "text/plain": [
       "array([ 0,  5, 10, 15, 20])"
      ]
     },
     "execution_count": 18,
     "metadata": {},
     "output_type": "execute_result"
    }
   ],
   "source": [
    "np.arange(0,23,5)"
   ]
  },
  {
   "cell_type": "markdown",
   "id": "326dbd13",
   "metadata": {},
   "source": [
    "In the above code 23 is not included bcoz after 20 the next element would be 25 which would breach the end, hence it stopped at 20"
   ]
  },
  {
   "cell_type": "markdown",
   "id": "e70e2a88",
   "metadata": {},
   "source": [
    "If we want to create matrix of zeros and ones we can use np.zeros((row,col)) and np.ones((row,col))"
   ]
  },
  {
   "cell_type": "code",
   "execution_count": 23,
   "id": "3dc66bd2",
   "metadata": {},
   "outputs": [
    {
     "data": {
      "text/plain": [
       "array([0., 0., 0., 0., 0.])"
      ]
     },
     "execution_count": 23,
     "metadata": {},
     "output_type": "execute_result"
    }
   ],
   "source": [
    "np.zeros(5)"
   ]
  },
  {
   "cell_type": "markdown",
   "id": "08c83e9a",
   "metadata": {},
   "source": [
    "The above method is used to make array of row=1 & col=0"
   ]
  },
  {
   "cell_type": "code",
   "execution_count": 21,
   "id": "67d0bda3",
   "metadata": {},
   "outputs": [
    {
     "data": {
      "text/plain": [
       "array([[0., 0., 0., 0.],\n",
       "       [0., 0., 0., 0.],\n",
       "       [0., 0., 0., 0.],\n",
       "       [0., 0., 0., 0.],\n",
       "       [0., 0., 0., 0.]])"
      ]
     },
     "execution_count": 21,
     "metadata": {},
     "output_type": "execute_result"
    }
   ],
   "source": [
    "np.zeros((5,4))"
   ]
  },
  {
   "cell_type": "code",
   "execution_count": 24,
   "id": "bc32448e",
   "metadata": {},
   "outputs": [
    {
     "data": {
      "text/plain": [
       "array([1., 1., 1., 1., 1.])"
      ]
     },
     "execution_count": 24,
     "metadata": {},
     "output_type": "execute_result"
    }
   ],
   "source": [
    "np.ones(5)"
   ]
  },
  {
   "cell_type": "code",
   "execution_count": 26,
   "id": "1f4977ec",
   "metadata": {},
   "outputs": [
    {
     "data": {
      "text/plain": [
       "array([[1., 1., 1., 1.],\n",
       "       [1., 1., 1., 1.],\n",
       "       [1., 1., 1., 1.],\n",
       "       [1., 1., 1., 1.],\n",
       "       [1., 1., 1., 1.]])"
      ]
     },
     "execution_count": 26,
     "metadata": {},
     "output_type": "execute_result"
    }
   ],
   "source": [
    "np.ones((5,4))"
   ]
  },
  {
   "cell_type": "markdown",
   "id": "69faa55f",
   "metadata": {},
   "source": [
    "Another way to create arrays is by using the     np.linspace(start,end,num_of_elem) method. In this end is also included in the resultant array"
   ]
  },
  {
   "cell_type": "code",
   "execution_count": 32,
   "id": "43e7599f",
   "metadata": {},
   "outputs": [
    {
     "data": {
      "text/plain": [
       "array([ 0.,  5., 10.])"
      ]
     },
     "execution_count": 32,
     "metadata": {},
     "output_type": "execute_result"
    }
   ],
   "source": [
    "np.linspace(0,10,3)"
   ]
  },
  {
   "cell_type": "markdown",
   "id": "86db7cfd",
   "metadata": {},
   "source": [
    "In the above code the 0 5 10 have equal difference between them"
   ]
  },
  {
   "cell_type": "code",
   "execution_count": 30,
   "id": "3eabf69c",
   "metadata": {},
   "outputs": [
    {
     "data": {
      "text/plain": [
       "array([0.        , 0.55555556, 1.11111111, 1.66666667, 2.22222222,\n",
       "       2.77777778, 3.33333333, 3.88888889, 4.44444444, 5.        ])"
      ]
     },
     "execution_count": 30,
     "metadata": {},
     "output_type": "execute_result"
    }
   ],
   "source": [
    "np.linspace(0,5,10)"
   ]
  },
  {
   "cell_type": "markdown",
   "id": "962e339e",
   "metadata": {},
   "source": [
    "If the num_of_elem is not odd number the resultant array is quite difficult to read as shown in the above code"
   ]
  },
  {
   "cell_type": "markdown",
   "id": "18782c6a",
   "metadata": {},
   "source": [
    "To create an identity matrix we can use np.eye() method"
   ]
  },
  {
   "cell_type": "code",
   "execution_count": 35,
   "id": "8b77e5f1",
   "metadata": {},
   "outputs": [
    {
     "data": {
      "text/plain": [
       "array([[1., 0., 0., 0., 0.],\n",
       "       [0., 1., 0., 0., 0.],\n",
       "       [0., 0., 1., 0., 0.],\n",
       "       [0., 0., 0., 1., 0.],\n",
       "       [0., 0., 0., 0., 1.]])"
      ]
     },
     "execution_count": 35,
     "metadata": {},
     "output_type": "execute_result"
    }
   ],
   "source": [
    "np.eye(5)"
   ]
  },
  {
   "cell_type": "markdown",
   "id": "748adb8f",
   "metadata": {},
   "source": [
    "Different ways to create an array and populate it with random values from a distribution"
   ]
  },
  {
   "cell_type": "markdown",
   "id": "5587be4d",
   "metadata": {},
   "source": [
    "1. np.random.rand(row,col) :\n",
    "Create an array of the given shape and populate it with\n",
    "random samples from a uniform distribution\n",
    "over ``[0, 1)`` where 0 is inclusive and 1 is exclusive"
   ]
  },
  {
   "cell_type": "code",
   "execution_count": 36,
   "id": "268f845f",
   "metadata": {},
   "outputs": [
    {
     "data": {
      "text/plain": [
       "array([[0.55968266, 0.56591961, 0.01243572, 0.42109916],\n",
       "       [0.53643728, 0.88459344, 0.21920988, 0.66116004],\n",
       "       [0.10902406, 0.75636162, 0.30804271, 0.62602341]])"
      ]
     },
     "execution_count": 36,
     "metadata": {},
     "output_type": "execute_result"
    }
   ],
   "source": [
    "np.random.rand(3,4)"
   ]
  },
  {
   "cell_type": "markdown",
   "id": "aab18df4",
   "metadata": {},
   "source": [
    "2. np.random.rand(row,col) : Create an array of the given shape and populate it with the random "
   ]
  },
  {
   "cell_type": "code",
   "execution_count": null,
   "id": "14335074",
   "metadata": {},
   "outputs": [],
   "source": [
    "np.random.randn"
   ]
  }
 ],
 "metadata": {
  "kernelspec": {
   "display_name": "Python 3 (ipykernel)",
   "language": "python",
   "name": "python3"
  },
  "language_info": {
   "codemirror_mode": {
    "name": "ipython",
    "version": 3
   },
   "file_extension": ".py",
   "mimetype": "text/x-python",
   "name": "python",
   "nbconvert_exporter": "python",
   "pygments_lexer": "ipython3",
   "version": "3.9.13"
  }
 },
 "nbformat": 4,
 "nbformat_minor": 5
}
