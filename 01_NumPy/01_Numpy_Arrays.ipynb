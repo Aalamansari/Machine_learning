{
 "cells": [
  {
   "cell_type": "code",
   "execution_count": 1,
   "id": "e2aabaa5",
   "metadata": {},
   "outputs": [],
   "source": [
    "import numpy as np"
   ]
  },
  {
   "cell_type": "markdown",
   "id": "ab3b4caa",
   "metadata": {},
   "source": [
    "To make 1-D arrays from list, we can use np.array() function"
   ]
  },
  {
   "cell_type": "code",
   "execution_count": 2,
   "id": "cf572828",
   "metadata": {},
   "outputs": [],
   "source": [
    "mylist = [1,3,4]"
   ]
  },
  {
   "cell_type": "code",
   "execution_count": 3,
   "id": "6ec9eb64",
   "metadata": {},
   "outputs": [
    {
     "data": {
      "text/plain": [
       "list"
      ]
     },
     "execution_count": 3,
     "metadata": {},
     "output_type": "execute_result"
    }
   ],
   "source": [
    "type(mylist)"
   ]
  },
  {
   "cell_type": "code",
   "execution_count": 4,
   "id": "ff56e365",
   "metadata": {},
   "outputs": [
    {
     "data": {
      "text/plain": [
       "array([1, 3, 4])"
      ]
     },
     "execution_count": 4,
     "metadata": {},
     "output_type": "execute_result"
    }
   ],
   "source": [
    "np.array(mylist)"
   ]
  },
  {
   "cell_type": "markdown",
   "id": "1fcf3c0c",
   "metadata": {},
   "source": [
    "To permanently store the obtained array we need to make use of an variable"
   ]
  },
  {
   "cell_type": "code",
   "execution_count": 5,
   "id": "3c923d56",
   "metadata": {},
   "outputs": [],
   "source": [
    "arr = np.array(mylist)"
   ]
  },
  {
   "cell_type": "code",
   "execution_count": 6,
   "id": "ce067de2",
   "metadata": {},
   "outputs": [
    {
     "data": {
      "text/plain": [
       "numpy.ndarray"
      ]
     },
     "execution_count": 6,
     "metadata": {},
     "output_type": "execute_result"
    }
   ],
   "source": [
    "type(arr)"
   ]
  },
  {
   "cell_type": "code",
   "execution_count": 7,
   "id": "b0dcf8ae",
   "metadata": {
    "scrolled": true
   },
   "outputs": [
    {
     "data": {
      "text/plain": [
       "array([1, 3, 4])"
      ]
     },
     "execution_count": 7,
     "metadata": {},
     "output_type": "execute_result"
    }
   ],
   "source": [
    "arr"
   ]
  },
  {
   "cell_type": "markdown",
   "id": "f12b82d5",
   "metadata": {},
   "source": [
    "To make 2-D arrays from nested list, we can use np.array() function"
   ]
  },
  {
   "cell_type": "code",
   "execution_count": 8,
   "id": "0ab9727b",
   "metadata": {},
   "outputs": [],
   "source": [
    "list2 = [[2,3,4],[4,6,7],[7,9,6]]"
   ]
  },
  {
   "cell_type": "code",
   "execution_count": 9,
   "id": "830bf81d",
   "metadata": {},
   "outputs": [
    {
     "data": {
      "text/plain": [
       "[[2, 3, 4], [4, 6, 7], [7, 9, 6]]"
      ]
     },
     "execution_count": 9,
     "metadata": {},
     "output_type": "execute_result"
    }
   ],
   "source": [
    "list2"
   ]
  },
  {
   "cell_type": "code",
   "execution_count": 10,
   "id": "b2075286",
   "metadata": {
    "scrolled": true
   },
   "outputs": [],
   "source": [
    "mat = np.array(list2)"
   ]
  },
  {
   "cell_type": "code",
   "execution_count": 11,
   "id": "0835840b",
   "metadata": {},
   "outputs": [
    {
     "data": {
      "text/plain": [
       "array([[2, 3, 4],\n",
       "       [4, 6, 7],\n",
       "       [7, 9, 6]])"
      ]
     },
     "execution_count": 11,
     "metadata": {},
     "output_type": "execute_result"
    }
   ],
   "source": [
    "mat"
   ]
  },
  {
   "cell_type": "code",
   "execution_count": 12,
   "id": "24ac1001",
   "metadata": {},
   "outputs": [
    {
     "data": {
      "text/plain": [
       "numpy.ndarray"
      ]
     },
     "execution_count": 12,
     "metadata": {},
     "output_type": "execute_result"
    }
   ],
   "source": [
    "type(mat)"
   ]
  },
  {
   "cell_type": "markdown",
   "id": "9f943f52",
   "metadata": {},
   "source": [
    "We can create arrays directly by using np.arange(start,end,step) function. The resulting array will not include the end "
   ]
  },
  {
   "cell_type": "code",
   "execution_count": 13,
   "id": "e9017837",
   "metadata": {
    "scrolled": false
   },
   "outputs": [
    {
     "data": {
      "text/plain": [
       "array([ 0,  1,  2,  3,  4,  5,  6,  7,  8,  9, 10, 11, 12, 13, 14, 15, 16,\n",
       "       17, 18, 19, 20, 21, 22])"
      ]
     },
     "execution_count": 13,
     "metadata": {},
     "output_type": "execute_result"
    }
   ],
   "source": [
    "np.arange(0,23)"
   ]
  },
  {
   "cell_type": "markdown",
   "id": "f1e8a8ef",
   "metadata": {},
   "source": [
    "In the above code 23 is not included because the by-default step size is 1 so it stopped at 22"
   ]
  },
  {
   "cell_type": "code",
   "execution_count": 14,
   "id": "41dd5fb4",
   "metadata": {},
   "outputs": [
    {
     "data": {
      "text/plain": [
       "array([ 0,  5, 10, 15, 20])"
      ]
     },
     "execution_count": 14,
     "metadata": {},
     "output_type": "execute_result"
    }
   ],
   "source": [
    "np.arange(0,23,5)"
   ]
  },
  {
   "cell_type": "markdown",
   "id": "96216da0",
   "metadata": {},
   "source": [
    "In the above code 23 is not included bcoz after 20 the next element would be 25 which would breach the end, hence it stopped at 20"
   ]
  },
  {
   "cell_type": "markdown",
   "id": "26a77d4b",
   "metadata": {},
   "source": [
    "If we want to create matrix of zeros and ones we can use np.zeros((row,col)) and np.ones((row,col))"
   ]
  },
  {
   "cell_type": "code",
   "execution_count": 15,
   "id": "75553b45",
   "metadata": {},
   "outputs": [
    {
     "data": {
      "text/plain": [
       "array([0., 0., 0., 0., 0.])"
      ]
     },
     "execution_count": 15,
     "metadata": {},
     "output_type": "execute_result"
    }
   ],
   "source": [
    "np.zeros(5)"
   ]
  },
  {
   "cell_type": "markdown",
   "id": "015c4661",
   "metadata": {},
   "source": [
    "The above method is used to make array of row=1 & col=0"
   ]
  },
  {
   "cell_type": "code",
   "execution_count": 16,
   "id": "aaca3ca3",
   "metadata": {},
   "outputs": [
    {
     "data": {
      "text/plain": [
       "array([[0., 0., 0., 0.],\n",
       "       [0., 0., 0., 0.],\n",
       "       [0., 0., 0., 0.],\n",
       "       [0., 0., 0., 0.],\n",
       "       [0., 0., 0., 0.]])"
      ]
     },
     "execution_count": 16,
     "metadata": {},
     "output_type": "execute_result"
    }
   ],
   "source": [
    "np.zeros((5,4))"
   ]
  },
  {
   "cell_type": "code",
   "execution_count": 17,
   "id": "7da23bed",
   "metadata": {},
   "outputs": [
    {
     "data": {
      "text/plain": [
       "array([1., 1., 1., 1., 1.])"
      ]
     },
     "execution_count": 17,
     "metadata": {},
     "output_type": "execute_result"
    }
   ],
   "source": [
    "np.ones(5)"
   ]
  },
  {
   "cell_type": "code",
   "execution_count": 18,
   "id": "fe158914",
   "metadata": {},
   "outputs": [
    {
     "data": {
      "text/plain": [
       "array([[1., 1., 1., 1.],\n",
       "       [1., 1., 1., 1.],\n",
       "       [1., 1., 1., 1.],\n",
       "       [1., 1., 1., 1.],\n",
       "       [1., 1., 1., 1.]])"
      ]
     },
     "execution_count": 18,
     "metadata": {},
     "output_type": "execute_result"
    }
   ],
   "source": [
    "np.ones((5,4))"
   ]
  },
  {
   "cell_type": "markdown",
   "id": "688c5c0d",
   "metadata": {},
   "source": [
    "Another way to create arrays is by using the     np.linspace(start,end,num_of_elem) method. In this end is also included in the resultant array"
   ]
  },
  {
   "cell_type": "code",
   "execution_count": 19,
   "id": "00276d62",
   "metadata": {},
   "outputs": [
    {
     "data": {
      "text/plain": [
       "array([ 0.,  5., 10.])"
      ]
     },
     "execution_count": 19,
     "metadata": {},
     "output_type": "execute_result"
    }
   ],
   "source": [
    "np.linspace(0,10,3)"
   ]
  },
  {
   "cell_type": "markdown",
   "id": "bd4639b3",
   "metadata": {},
   "source": [
    "In the above code the 0 5 10 have equal difference between them"
   ]
  },
  {
   "cell_type": "code",
   "execution_count": 20,
   "id": "340dd9df",
   "metadata": {},
   "outputs": [
    {
     "data": {
      "text/plain": [
       "array([0.        , 0.55555556, 1.11111111, 1.66666667, 2.22222222,\n",
       "       2.77777778, 3.33333333, 3.88888889, 4.44444444, 5.        ])"
      ]
     },
     "execution_count": 20,
     "metadata": {},
     "output_type": "execute_result"
    }
   ],
   "source": [
    "np.linspace(0,5,10)"
   ]
  },
  {
   "cell_type": "markdown",
   "id": "d5eabadd",
   "metadata": {},
   "source": [
    "If the num_of_elem is not odd number the resultant array is quite difficult to read as shown in the above code"
   ]
  },
  {
   "cell_type": "markdown",
   "id": "8809ebb3",
   "metadata": {},
   "source": [
    "To create an identity matrix we can use np.eye() method"
   ]
  },
  {
   "cell_type": "code",
   "execution_count": 21,
   "id": "d765c8d4",
   "metadata": {},
   "outputs": [
    {
     "data": {
      "text/plain": [
       "array([[1., 0., 0., 0., 0.],\n",
       "       [0., 1., 0., 0., 0.],\n",
       "       [0., 0., 1., 0., 0.],\n",
       "       [0., 0., 0., 1., 0.],\n",
       "       [0., 0., 0., 0., 1.]])"
      ]
     },
     "execution_count": 21,
     "metadata": {},
     "output_type": "execute_result"
    }
   ],
   "source": [
    "np.eye(5)"
   ]
  },
  {
   "cell_type": "markdown",
   "id": "62f36351",
   "metadata": {},
   "source": [
    "Different ways to create an array and populate it with random values from a distribution"
   ]
  },
  {
   "cell_type": "markdown",
   "id": "9fdfa224",
   "metadata": {},
   "source": [
    "1. np.random.rand(row,col) :\n",
    "Create an array of the given shape and populate it with\n",
    "random samples from a uniform distribution\n",
    "over ``[0, 1)`` where 0 is inclusive and 1 is exclusive"
   ]
  },
  {
   "cell_type": "code",
   "execution_count": 22,
   "id": "cec566a8",
   "metadata": {
    "scrolled": true
   },
   "outputs": [
    {
     "data": {
      "text/plain": [
       "array([[0.55911701, 0.08934455, 0.27638165, 0.12469961],\n",
       "       [0.08045225, 0.72124609, 0.53991358, 0.94396565],\n",
       "       [0.75922375, 0.39930657, 0.56256447, 0.8935326 ]])"
      ]
     },
     "execution_count": 22,
     "metadata": {},
     "output_type": "execute_result"
    }
   ],
   "source": [
    "np.random.rand(3,4)"
   ]
  },
  {
   "cell_type": "markdown",
   "id": "ec347cd7",
   "metadata": {},
   "source": [
    "2. np.random.rand(row,col) : Create an array of the given shape and populate it with the random samples from a standard normal distribution. It inlcudes both pos+ and neg- numbers. The chance of getting the number close to zero is higher."
   ]
  },
  {
   "cell_type": "code",
   "execution_count": 23,
   "id": "fbde463f",
   "metadata": {},
   "outputs": [
    {
     "data": {
      "text/plain": [
       "-0.31704589405833905"
      ]
     },
     "execution_count": 23,
     "metadata": {},
     "output_type": "execute_result"
    }
   ],
   "source": [
    "np.random.randn()"
   ]
  },
  {
   "cell_type": "code",
   "execution_count": 24,
   "id": "562023b0",
   "metadata": {},
   "outputs": [
    {
     "data": {
      "text/plain": [
       "array([-0.85751887, -0.46285685, -1.6672634 ,  0.03532028,  0.23981304])"
      ]
     },
     "execution_count": 24,
     "metadata": {},
     "output_type": "execute_result"
    }
   ],
   "source": [
    "np.random.randn(5)"
   ]
  },
  {
   "cell_type": "code",
   "execution_count": 25,
   "id": "525d7744",
   "metadata": {
    "scrolled": true
   },
   "outputs": [
    {
     "data": {
      "text/plain": [
       "array([[-0.91436172, -1.48229506,  1.45538468, -0.71242743],\n",
       "       [ 0.8459499 ,  1.00650901, -0.01491819, -1.08998066],\n",
       "       [-0.22887667, -0.2827388 ,  1.02771083, -0.57404316]])"
      ]
     },
     "execution_count": 25,
     "metadata": {},
     "output_type": "execute_result"
    }
   ],
   "source": [
    "np.random.randn(3,4)"
   ]
  },
  {
   "cell_type": "markdown",
   "id": "e30bef88",
   "metadata": {},
   "source": [
    "3. np.random.randint(start,end,num_of_ele) : Returns an array having random elements between start and end equal to num_of_ele "
   ]
  },
  {
   "cell_type": "code",
   "execution_count": 38,
   "id": "8f9ccc3d",
   "metadata": {},
   "outputs": [
    {
     "data": {
      "text/plain": [
       "array([28,  7, 10, 20, 24,  7,  6, 14,  9, 20, 18, 23,  7,  7, 15, 12,  0,\n",
       "       20, 10, 12])"
      ]
     },
     "execution_count": 38,
     "metadata": {},
     "output_type": "execute_result"
    }
   ],
   "source": [
    "np.random.randint(0,30,20)"
   ]
  },
  {
   "cell_type": "code",
   "execution_count": 27,
   "id": "3d56eedc",
   "metadata": {},
   "outputs": [
    {
     "data": {
      "text/plain": [
       "array([[ 8, 59,  1, 39],\n",
       "       [22, 21, 85, 41],\n",
       "       [95, 71, 28, 72]])"
      ]
     },
     "execution_count": 27,
     "metadata": {},
     "output_type": "execute_result"
    }
   ],
   "source": [
    "np.random.randint(0,101,(3,4))"
   ]
  },
  {
   "cell_type": "markdown",
   "id": "1fcc7171",
   "metadata": {},
   "source": [
    "We can get the random  integers in the form of matrix by defining the row & col in place of num_of_ele"
   ]
  },
  {
   "cell_type": "markdown",
   "id": "28910b62",
   "metadata": {},
   "source": [
    "4. np.random.seed(any_num) : This function makes the any_num a pointer that holds a particular set of random numbers \n",
    "which would remain same once always for that any_num"
   ]
  },
  {
   "cell_type": "code",
   "execution_count": 28,
   "id": "fec90437",
   "metadata": {},
   "outputs": [
    {
     "data": {
      "text/plain": [
       "array([0.11505457, 0.60906654, 0.13339096, 0.24058962])"
      ]
     },
     "execution_count": 28,
     "metadata": {},
     "output_type": "execute_result"
    }
   ],
   "source": [
    "np.random.seed(43)\n",
    "np.random.rand(4)"
   ]
  },
  {
   "cell_type": "markdown",
   "id": "1dcad5f1",
   "metadata": {},
   "source": [
    "If you again run the above code u would get the same result"
   ]
  },
  {
   "cell_type": "code",
   "execution_count": 29,
   "id": "fa0ffd92",
   "metadata": {},
   "outputs": [
    {
     "data": {
      "text/plain": [
       "array([0.11505457, 0.60906654, 0.13339096, 0.24058962])"
      ]
     },
     "execution_count": 29,
     "metadata": {},
     "output_type": "execute_result"
    }
   ],
   "source": [
    "np.random.seed(43)\n",
    "np.random.rand(4)"
   ]
  },
  {
   "cell_type": "markdown",
   "id": "28dbc6e7",
   "metadata": {},
   "source": [
    "Some attributes of the above methods:"
   ]
  },
  {
   "cell_type": "markdown",
   "id": "3bd77b9c",
   "metadata": {},
   "source": [
    "1. reshape(row,col) : To convert the array in the matrix form"
   ]
  },
  {
   "cell_type": "code",
   "execution_count": 46,
   "id": "9721932c",
   "metadata": {},
   "outputs": [],
   "source": [
    "arr2 = np.arange(0,21)"
   ]
  },
  {
   "cell_type": "code",
   "execution_count": 49,
   "id": "76d132b0",
   "metadata": {},
   "outputs": [
    {
     "data": {
      "text/plain": [
       "array([[ 0,  1,  2,  3,  4,  5,  6],\n",
       "       [ 7,  8,  9, 10, 11, 12, 13],\n",
       "       [14, 15, 16, 17, 18, 19, 20]])"
      ]
     },
     "execution_count": 49,
     "metadata": {},
     "output_type": "execute_result"
    }
   ],
   "source": [
    "arr2.reshape(3,7)"
   ]
  },
  {
   "cell_type": "markdown",
   "id": "fda1cf78",
   "metadata": {},
   "source": [
    "The product of the row and col should be equal to the total number of elements in the array"
   ]
  },
  {
   "cell_type": "markdown",
   "id": "a004cbd0",
   "metadata": {},
   "source": [
    "2. max() : To get the maximum element from the array"
   ]
  },
  {
   "cell_type": "code",
   "execution_count": 51,
   "id": "14115e1c",
   "metadata": {},
   "outputs": [],
   "source": [
    "randarr = np.random.randint(0,101,10)"
   ]
  },
  {
   "cell_type": "code",
   "execution_count": 52,
   "id": "682aa87d",
   "metadata": {},
   "outputs": [
    {
     "data": {
      "text/plain": [
       "array([35, 50, 75, 89, 65, 34, 75, 66, 99,  4])"
      ]
     },
     "execution_count": 52,
     "metadata": {},
     "output_type": "execute_result"
    }
   ],
   "source": [
    "randarr"
   ]
  },
  {
   "cell_type": "code",
   "execution_count": 53,
   "id": "ce3b7637",
   "metadata": {},
   "outputs": [
    {
     "data": {
      "text/plain": [
       "99"
      ]
     },
     "execution_count": 53,
     "metadata": {},
     "output_type": "execute_result"
    }
   ],
   "source": [
    "randarr.max()"
   ]
  },
  {
   "cell_type": "markdown",
   "id": "2410f658",
   "metadata": {},
   "source": [
    "2. min() : To get the minimum element from the array"
   ]
  },
  {
   "cell_type": "code",
   "execution_count": 55,
   "id": "1310d6f6",
   "metadata": {},
   "outputs": [
    {
     "data": {
      "text/plain": [
       "4"
      ]
     },
     "execution_count": 55,
     "metadata": {},
     "output_type": "execute_result"
    }
   ],
   "source": [
    "randarr.min()"
   ]
  },
  {
   "cell_type": "markdown",
   "id": "f4562e52",
   "metadata": {},
   "source": [
    "3. argmax() : To get the index of maximum element from the array"
   ]
  },
  {
   "cell_type": "code",
   "execution_count": 56,
   "id": "6e87534b",
   "metadata": {},
   "outputs": [
    {
     "data": {
      "text/plain": [
       "8"
      ]
     },
     "execution_count": 56,
     "metadata": {},
     "output_type": "execute_result"
    }
   ],
   "source": [
    "randarr.argmax()"
   ]
  },
  {
   "cell_type": "markdown",
   "id": "dfa78842",
   "metadata": {},
   "source": [
    "4. argmin() : To get the index of minimum element from the array"
   ]
  },
  {
   "cell_type": "code",
   "execution_count": 58,
   "id": "267f2658",
   "metadata": {},
   "outputs": [
    {
     "data": {
      "text/plain": [
       "9"
      ]
     },
     "execution_count": 58,
     "metadata": {},
     "output_type": "execute_result"
    }
   ],
   "source": [
    "randarr.argmin()"
   ]
  },
  {
   "cell_type": "markdown",
   "id": "2a23e5c5",
   "metadata": {},
   "source": [
    "5. dtype : To check the data type of the array"
   ]
  },
  {
   "cell_type": "code",
   "execution_count": 60,
   "id": "74188a86",
   "metadata": {},
   "outputs": [
    {
     "data": {
      "text/plain": [
       "dtype('int32')"
      ]
     },
     "execution_count": 60,
     "metadata": {},
     "output_type": "execute_result"
    }
   ],
   "source": [
    "randarr.dtype"
   ]
  },
  {
   "cell_type": "markdown",
   "id": "fbab63dc",
   "metadata": {},
   "source": [
    "6. shape : To check the shape of the array"
   ]
  },
  {
   "cell_type": "code",
   "execution_count": 63,
   "id": "6671a01d",
   "metadata": {},
   "outputs": [
    {
     "data": {
      "text/plain": [
       "array([ 0,  1,  2,  3,  4,  5,  6,  7,  8,  9, 10, 11, 12, 13, 14, 15, 16,\n",
       "       17, 18, 19, 20])"
      ]
     },
     "execution_count": 63,
     "metadata": {},
     "output_type": "execute_result"
    }
   ],
   "source": [
    "arr2"
   ]
  },
  {
   "cell_type": "code",
   "execution_count": 64,
   "id": "7571b5b0",
   "metadata": {},
   "outputs": [
    {
     "data": {
      "text/plain": [
       "(21,)"
      ]
     },
     "execution_count": 64,
     "metadata": {},
     "output_type": "execute_result"
    }
   ],
   "source": [
    "arr2.shape"
   ]
  },
  {
   "cell_type": "code",
   "execution_count": 68,
   "id": "55aea9c4",
   "metadata": {},
   "outputs": [],
   "source": [
    "arr3 = arr2.reshape(3,7)"
   ]
  },
  {
   "cell_type": "code",
   "execution_count": 69,
   "id": "1b8d9ee4",
   "metadata": {},
   "outputs": [
    {
     "data": {
      "text/plain": [
       "(3, 7)"
      ]
     },
     "execution_count": 69,
     "metadata": {},
     "output_type": "execute_result"
    }
   ],
   "source": [
    "arr3.shape"
   ]
  },
  {
   "cell_type": "markdown",
   "id": "e7063333",
   "metadata": {},
   "source": [
    "For grabbing single and mulitple element from an arrray use this,"
   ]
  },
  {
   "cell_type": "code",
   "execution_count": 8,
   "id": "fa413023",
   "metadata": {},
   "outputs": [],
   "source": [
    "myarr = np.arange(11)"
   ]
  },
  {
   "cell_type": "code",
   "execution_count": 9,
   "id": "05ff0ee2",
   "metadata": {},
   "outputs": [
    {
     "data": {
      "text/plain": [
       "array([ 0,  1,  2,  3,  4,  5,  6,  7,  8,  9, 10])"
      ]
     },
     "execution_count": 9,
     "metadata": {},
     "output_type": "execute_result"
    }
   ],
   "source": [
    "myarr"
   ]
  },
  {
   "cell_type": "code",
   "execution_count": 11,
   "id": "0e747f6f",
   "metadata": {},
   "outputs": [
    {
     "data": {
      "text/plain": [
       "6"
      ]
     },
     "execution_count": 11,
     "metadata": {},
     "output_type": "execute_result"
    }
   ],
   "source": [
    "myarr[6]"
   ]
  },
  {
   "cell_type": "code",
   "execution_count": 14,
   "id": "23d16c0d",
   "metadata": {},
   "outputs": [
    {
     "data": {
      "text/plain": [
       "array([0, 1, 2, 3, 4])"
      ]
     },
     "execution_count": 14,
     "metadata": {},
     "output_type": "execute_result"
    }
   ],
   "source": [
    "myarr[0:5]"
   ]
  },
  {
   "cell_type": "code",
   "execution_count": 13,
   "id": "9ec8ed76",
   "metadata": {},
   "outputs": [
    {
     "data": {
      "text/plain": [
       "array([0, 1, 2, 3, 4])"
      ]
     },
     "execution_count": 13,
     "metadata": {},
     "output_type": "execute_result"
    }
   ],
   "source": [
    "myarr[:5]"
   ]
  },
  {
   "cell_type": "code",
   "execution_count": 15,
   "id": "396526e8",
   "metadata": {},
   "outputs": [
    {
     "data": {
      "text/plain": [
       "array([ 5,  6,  7,  8,  9, 10])"
      ]
     },
     "execution_count": 15,
     "metadata": {},
     "output_type": "execute_result"
    }
   ],
   "source": [
    "myarr[5:]"
   ]
  },
  {
   "cell_type": "markdown",
   "id": "88aa79db",
   "metadata": {},
   "source": [
    "For broadcasting an element in the array use this,"
   ]
  },
  {
   "cell_type": "code",
   "execution_count": 16,
   "id": "19fa6b69",
   "metadata": {},
   "outputs": [
    {
     "data": {
      "text/plain": [
       "array([ 0,  1,  2,  3,  4,  5,  6,  7,  8,  9, 10])"
      ]
     },
     "execution_count": 16,
     "metadata": {},
     "output_type": "execute_result"
    }
   ],
   "source": [
    "myarr "
   ]
  },
  {
   "cell_type": "code",
   "execution_count": 17,
   "id": "c72082f7",
   "metadata": {},
   "outputs": [],
   "source": [
    "myarr[0:4] = 33"
   ]
  },
  {
   "cell_type": "code",
   "execution_count": 18,
   "id": "d575ec4e",
   "metadata": {},
   "outputs": [
    {
     "data": {
      "text/plain": [
       "array([33, 33, 33, 33,  4,  5,  6,  7,  8,  9, 10])"
      ]
     },
     "execution_count": 18,
     "metadata": {},
     "output_type": "execute_result"
    }
   ],
   "source": [
    "myarr"
   ]
  },
  {
   "cell_type": "markdown",
   "id": "09e7ec95",
   "metadata": {},
   "source": [
    "For slicing elements from the array use this method,"
   ]
  },
  {
   "cell_type": "code",
   "execution_count": 19,
   "id": "5779539c",
   "metadata": {},
   "outputs": [],
   "source": [
    "ary = np.arange(0,11)"
   ]
  },
  {
   "cell_type": "code",
   "execution_count": 20,
   "id": "2a78e82f",
   "metadata": {},
   "outputs": [
    {
     "data": {
      "text/plain": [
       "array([ 0,  1,  2,  3,  4,  5,  6,  7,  8,  9, 10])"
      ]
     },
     "execution_count": 20,
     "metadata": {},
     "output_type": "execute_result"
    }
   ],
   "source": [
    "ary"
   ]
  },
  {
   "cell_type": "code",
   "execution_count": 21,
   "id": "afba156e",
   "metadata": {},
   "outputs": [],
   "source": [
    "slice_of_ary = ary[0:4]"
   ]
  },
  {
   "cell_type": "code",
   "execution_count": 22,
   "id": "72d4896b",
   "metadata": {},
   "outputs": [
    {
     "data": {
      "text/plain": [
       "array([0, 1, 2, 3])"
      ]
     },
     "execution_count": 22,
     "metadata": {},
     "output_type": "execute_result"
    }
   ],
   "source": [
    "slice_of_ary"
   ]
  },
  {
   "cell_type": "code",
   "execution_count": 23,
   "id": "414d8b2e",
   "metadata": {},
   "outputs": [],
   "source": [
    "slice_of_ary[:] = 33"
   ]
  },
  {
   "cell_type": "code",
   "execution_count": 24,
   "id": "7546a7ff",
   "metadata": {},
   "outputs": [
    {
     "data": {
      "text/plain": [
       "array([33, 33, 33, 33])"
      ]
     },
     "execution_count": 24,
     "metadata": {},
     "output_type": "execute_result"
    }
   ],
   "source": [
    "slice_of_ary"
   ]
  },
  {
   "cell_type": "code",
   "execution_count": 25,
   "id": "152a8432",
   "metadata": {},
   "outputs": [
    {
     "data": {
      "text/plain": [
       "array([33, 33, 33, 33,  4,  5,  6,  7,  8,  9, 10])"
      ]
     },
     "execution_count": 25,
     "metadata": {},
     "output_type": "execute_result"
    }
   ],
   "source": [
    "ary"
   ]
  },
  {
   "cell_type": "markdown",
   "id": "aa2a7b8a",
   "metadata": {},
   "source": [
    "As seen in above code the slicing points towards the elements of the array and doesn't store its copy, hence any changes made to the sliced array will affect the original array. \n"
   ]
  },
  {
   "cell_type": "markdown",
   "id": "a6003938",
   "metadata": {},
   "source": [
    "To avoid this issue, create an copy of the original array using .copy() method and perform all the required actions on it."
   ]
  },
  {
   "cell_type": "code",
   "execution_count": 26,
   "id": "9da93c9f",
   "metadata": {},
   "outputs": [],
   "source": [
    "ary_copy = ary.copy()"
   ]
  },
  {
   "cell_type": "code",
   "execution_count": 27,
   "id": "a85c5601",
   "metadata": {},
   "outputs": [
    {
     "data": {
      "text/plain": [
       "array([33, 33, 33, 33,  4,  5,  6,  7,  8,  9, 10])"
      ]
     },
     "execution_count": 27,
     "metadata": {},
     "output_type": "execute_result"
    }
   ],
   "source": [
    "ary_copy"
   ]
  },
  {
   "cell_type": "markdown",
   "id": "806531fe",
   "metadata": {},
   "source": [
    "To grab an element from the 2-D array use array[row][col] or array[row,col]"
   ]
  },
  {
   "cell_type": "code",
   "execution_count": 29,
   "id": "072cf2a3",
   "metadata": {},
   "outputs": [],
   "source": [
    "arr_2d = np.array([[23,45,32],[12,65,73],[33,55,76]])"
   ]
  },
  {
   "cell_type": "code",
   "execution_count": 30,
   "id": "978fd4b4",
   "metadata": {},
   "outputs": [
    {
     "data": {
      "text/plain": [
       "array([[23, 45, 32],\n",
       "       [12, 65, 73],\n",
       "       [33, 55, 76]])"
      ]
     },
     "execution_count": 30,
     "metadata": {},
     "output_type": "execute_result"
    }
   ],
   "source": [
    "arr_2d"
   ]
  },
  {
   "cell_type": "code",
   "execution_count": 31,
   "id": "d95e2690",
   "metadata": {},
   "outputs": [
    {
     "data": {
      "text/plain": [
       "65"
      ]
     },
     "execution_count": 31,
     "metadata": {},
     "output_type": "execute_result"
    }
   ],
   "source": [
    "arr_2d[1][1]"
   ]
  },
  {
   "cell_type": "code",
   "execution_count": 32,
   "id": "a01ed2f9",
   "metadata": {},
   "outputs": [
    {
     "data": {
      "text/plain": [
       "65"
      ]
     },
     "execution_count": 32,
     "metadata": {},
     "output_type": "execute_result"
    }
   ],
   "source": [
    "arr_2d[1,1]"
   ]
  },
  {
   "cell_type": "code",
   "execution_count": 33,
   "id": "664dc85e",
   "metadata": {},
   "outputs": [
    {
     "data": {
      "text/plain": [
       "array([[45, 32],\n",
       "       [65, 73]])"
      ]
     },
     "execution_count": 33,
     "metadata": {},
     "output_type": "execute_result"
    }
   ],
   "source": [
    "arr_2d[:2,1:]"
   ]
  },
  {
   "cell_type": "markdown",
   "id": "2bffb75d",
   "metadata": {},
   "source": [
    "Above code displays the row 0 and 1 || col 1 and 2"
   ]
  },
  {
   "cell_type": "markdown",
   "id": "f3bd4a68",
   "metadata": {},
   "source": [
    "Filtering the array using the comparison operators,"
   ]
  },
  {
   "cell_type": "code",
   "execution_count": 34,
   "id": "3a56fd41",
   "metadata": {},
   "outputs": [],
   "source": [
    "arr = np.arange(1,11)"
   ]
  },
  {
   "cell_type": "code",
   "execution_count": 35,
   "id": "b54a6b16",
   "metadata": {},
   "outputs": [
    {
     "data": {
      "text/plain": [
       "array([ 1,  2,  3,  4,  5,  6,  7,  8,  9, 10])"
      ]
     },
     "execution_count": 35,
     "metadata": {},
     "output_type": "execute_result"
    }
   ],
   "source": [
    "arr"
   ]
  },
  {
   "cell_type": "code",
   "execution_count": 36,
   "id": "0dd3b680",
   "metadata": {},
   "outputs": [
    {
     "data": {
      "text/plain": [
       "array([False, False, False, False,  True,  True,  True,  True,  True,\n",
       "        True])"
      ]
     },
     "execution_count": 36,
     "metadata": {},
     "output_type": "execute_result"
    }
   ],
   "source": [
    "arr > 4"
   ]
  },
  {
   "cell_type": "code",
   "execution_count": 37,
   "id": "aed5f7d1",
   "metadata": {},
   "outputs": [],
   "source": [
    "bool_arr = arr>4"
   ]
  },
  {
   "cell_type": "code",
   "execution_count": 38,
   "id": "c3f556f9",
   "metadata": {},
   "outputs": [
    {
     "data": {
      "text/plain": [
       "array([False, False, False, False,  True,  True,  True,  True,  True,\n",
       "        True])"
      ]
     },
     "execution_count": 38,
     "metadata": {},
     "output_type": "execute_result"
    }
   ],
   "source": [
    "bool_arr"
   ]
  },
  {
   "cell_type": "code",
   "execution_count": 39,
   "id": "4796589b",
   "metadata": {},
   "outputs": [
    {
     "data": {
      "text/plain": [
       "array([ 5,  6,  7,  8,  9, 10])"
      ]
     },
     "execution_count": 39,
     "metadata": {},
     "output_type": "execute_result"
    }
   ],
   "source": [
    "arr[bool_arr]"
   ]
  },
  {
   "cell_type": "markdown",
   "id": "f6e3ccce",
   "metadata": {},
   "source": [
    "In the above code, we are only displaying the elements that are True in bool_arr"
   ]
  },
  {
   "cell_type": "code",
   "execution_count": 40,
   "id": "b32b2a48",
   "metadata": {},
   "outputs": [
    {
     "data": {
      "text/plain": [
       "array([ 1,  2,  3,  4,  5,  6,  7,  8,  9, 10])"
      ]
     },
     "execution_count": 40,
     "metadata": {},
     "output_type": "execute_result"
    }
   ],
   "source": [
    "arr"
   ]
  },
  {
   "cell_type": "code",
   "execution_count": 41,
   "id": "9441a6d2",
   "metadata": {},
   "outputs": [
    {
     "data": {
      "text/plain": [
       "array([ 5,  6,  7,  8,  9, 10])"
      ]
     },
     "execution_count": 41,
     "metadata": {},
     "output_type": "execute_result"
    }
   ],
   "source": [
    "arr[arr>4]"
   ]
  },
  {
   "cell_type": "markdown",
   "id": "abaf00c1",
   "metadata": {},
   "source": [
    "Operations on array"
   ]
  },
  {
   "cell_type": "code",
   "execution_count": 50,
   "id": "4277fffd",
   "metadata": {},
   "outputs": [],
   "source": [
    "arr = np.arange(0,11)"
   ]
  },
  {
   "cell_type": "code",
   "execution_count": 51,
   "id": "fa507d1b",
   "metadata": {},
   "outputs": [
    {
     "data": {
      "text/plain": [
       "array([ 5,  6,  7,  8,  9, 10, 11, 12, 13, 14, 15])"
      ]
     },
     "execution_count": 51,
     "metadata": {},
     "output_type": "execute_result"
    }
   ],
   "source": [
    "arr + 5"
   ]
  },
  {
   "cell_type": "code",
   "execution_count": 52,
   "id": "6d746f6e",
   "metadata": {},
   "outputs": [
    {
     "data": {
      "text/plain": [
       "array([-2, -1,  0,  1,  2,  3,  4,  5,  6,  7,  8])"
      ]
     },
     "execution_count": 52,
     "metadata": {},
     "output_type": "execute_result"
    }
   ],
   "source": [
    "arr - 2"
   ]
  },
  {
   "cell_type": "code",
   "execution_count": 53,
   "id": "abfe8b3b",
   "metadata": {},
   "outputs": [
    {
     "data": {
      "text/plain": [
       "array([ 0,  2,  4,  6,  8, 10, 12, 14, 16, 18, 20])"
      ]
     },
     "execution_count": 53,
     "metadata": {},
     "output_type": "execute_result"
    }
   ],
   "source": [
    "arr + arr"
   ]
  },
  {
   "cell_type": "code",
   "execution_count": 54,
   "id": "4bb172a7",
   "metadata": {},
   "outputs": [
    {
     "data": {
      "text/plain": [
       "array([  0,   1,   4,   9,  16,  25,  36,  49,  64,  81, 100], dtype=int32)"
      ]
     },
     "execution_count": 54,
     "metadata": {},
     "output_type": "execute_result"
    }
   ],
   "source": [
    "arr**2"
   ]
  },
  {
   "cell_type": "code",
   "execution_count": 55,
   "id": "ee2c094b",
   "metadata": {},
   "outputs": [
    {
     "name": "stderr",
     "output_type": "stream",
     "text": [
      "C:\\Users\\aalam\\AppData\\Local\\Temp\\ipykernel_23260\\1862401812.py:1: RuntimeWarning: invalid value encountered in true_divide\n",
      "  arr/arr\n"
     ]
    },
    {
     "data": {
      "text/plain": [
       "array([nan,  1.,  1.,  1.,  1.,  1.,  1.,  1.,  1.,  1.,  1.])"
      ]
     },
     "execution_count": 55,
     "metadata": {},
     "output_type": "execute_result"
    }
   ],
   "source": [
    "arr/arr"
   ]
  },
  {
   "cell_type": "markdown",
   "id": "53b6eb07",
   "metadata": {},
   "source": [
    "In the above code, 0/0 gives a not a number(nan)"
   ]
  },
  {
   "cell_type": "code",
   "execution_count": 58,
   "id": "9ac5a591",
   "metadata": {},
   "outputs": [
    {
     "name": "stderr",
     "output_type": "stream",
     "text": [
      "C:\\Users\\aalam\\AppData\\Local\\Temp\\ipykernel_23260\\255282349.py:1: RuntimeWarning: divide by zero encountered in true_divide\n",
      "  1/arr\n"
     ]
    },
    {
     "data": {
      "text/plain": [
       "array([       inf, 1.        , 0.5       , 0.33333333, 0.25      ,\n",
       "       0.2       , 0.16666667, 0.14285714, 0.125     , 0.11111111,\n",
       "       0.1       ])"
      ]
     },
     "execution_count": 58,
     "metadata": {},
     "output_type": "execute_result"
    }
   ],
   "source": [
    "1/arr"
   ]
  },
  {
   "cell_type": "markdown",
   "id": "86061d6d",
   "metadata": {},
   "source": [
    "In the above code, 1/0 gives infinity"
   ]
  },
  {
   "cell_type": "code",
   "execution_count": 59,
   "id": "de21fc99",
   "metadata": {},
   "outputs": [
    {
     "data": {
      "text/plain": [
       "array([0.        , 1.        , 1.41421356, 1.73205081, 2.        ,\n",
       "       2.23606798, 2.44948974, 2.64575131, 2.82842712, 3.        ,\n",
       "       3.16227766])"
      ]
     },
     "execution_count": 59,
     "metadata": {},
     "output_type": "execute_result"
    }
   ],
   "source": [
    "np.sqrt(arr)"
   ]
  },
  {
   "cell_type": "code",
   "execution_count": 60,
   "id": "ae6b753f",
   "metadata": {},
   "outputs": [
    {
     "data": {
      "text/plain": [
       "array([ 0.        ,  0.84147098,  0.90929743,  0.14112001, -0.7568025 ,\n",
       "       -0.95892427, -0.2794155 ,  0.6569866 ,  0.98935825,  0.41211849,\n",
       "       -0.54402111])"
      ]
     },
     "execution_count": 60,
     "metadata": {},
     "output_type": "execute_result"
    }
   ],
   "source": [
    "np.sin(arr)"
   ]
  },
  {
   "cell_type": "code",
   "execution_count": 61,
   "id": "23cc33c6",
   "metadata": {},
   "outputs": [
    {
     "name": "stderr",
     "output_type": "stream",
     "text": [
      "C:\\Users\\aalam\\AppData\\Local\\Temp\\ipykernel_23260\\3120950136.py:1: RuntimeWarning: divide by zero encountered in log\n",
      "  np.log(arr)\n"
     ]
    },
    {
     "data": {
      "text/plain": [
       "array([      -inf, 0.        , 0.69314718, 1.09861229, 1.38629436,\n",
       "       1.60943791, 1.79175947, 1.94591015, 2.07944154, 2.19722458,\n",
       "       2.30258509])"
      ]
     },
     "execution_count": 61,
     "metadata": {},
     "output_type": "execute_result"
    }
   ],
   "source": [
    "np.log(arr)"
   ]
  },
  {
   "cell_type": "code",
   "execution_count": 62,
   "id": "3e55a4bc",
   "metadata": {},
   "outputs": [
    {
     "data": {
      "text/plain": [
       "55"
      ]
     },
     "execution_count": 62,
     "metadata": {},
     "output_type": "execute_result"
    }
   ],
   "source": [
    "arr.sum()"
   ]
  },
  {
   "cell_type": "code",
   "execution_count": 63,
   "id": "50c7019c",
   "metadata": {},
   "outputs": [
    {
     "data": {
      "text/plain": [
       "5.0"
      ]
     },
     "execution_count": 63,
     "metadata": {},
     "output_type": "execute_result"
    }
   ],
   "source": [
    "arr.mean()"
   ]
  },
  {
   "cell_type": "code",
   "execution_count": 64,
   "id": "f2854111",
   "metadata": {},
   "outputs": [
    {
     "data": {
      "text/plain": [
       "10"
      ]
     },
     "execution_count": 64,
     "metadata": {},
     "output_type": "execute_result"
    }
   ],
   "source": [
    "arr.max()"
   ]
  },
  {
   "cell_type": "code",
   "execution_count": 65,
   "id": "9d178b33",
   "metadata": {},
   "outputs": [
    {
     "data": {
      "text/plain": [
       "0"
      ]
     },
     "execution_count": 65,
     "metadata": {},
     "output_type": "execute_result"
    }
   ],
   "source": [
    "arr.min()"
   ]
  },
  {
   "cell_type": "code",
   "execution_count": 66,
   "id": "8dcaeb29",
   "metadata": {},
   "outputs": [
    {
     "data": {
      "text/plain": [
       "10.0"
      ]
     },
     "execution_count": 66,
     "metadata": {},
     "output_type": "execute_result"
    }
   ],
   "source": [
    "arr.var()"
   ]
  },
  {
   "cell_type": "code",
   "execution_count": 67,
   "id": "e5d16ab8",
   "metadata": {},
   "outputs": [
    {
     "data": {
      "text/plain": [
       "3.1622776601683795"
      ]
     },
     "execution_count": 67,
     "metadata": {},
     "output_type": "execute_result"
    }
   ],
   "source": [
    "arr.std()"
   ]
  },
  {
   "cell_type": "code",
   "execution_count": 68,
   "id": "89d2756c",
   "metadata": {},
   "outputs": [],
   "source": [
    "arr2d = np.arange(0,25).reshape(5,5)"
   ]
  },
  {
   "cell_type": "code",
   "execution_count": 69,
   "id": "289b5753",
   "metadata": {},
   "outputs": [
    {
     "data": {
      "text/plain": [
       "array([[ 0,  1,  2,  3,  4],\n",
       "       [ 5,  6,  7,  8,  9],\n",
       "       [10, 11, 12, 13, 14],\n",
       "       [15, 16, 17, 18, 19],\n",
       "       [20, 21, 22, 23, 24]])"
      ]
     },
     "execution_count": 69,
     "metadata": {},
     "output_type": "execute_result"
    }
   ],
   "source": [
    "arr2d"
   ]
  },
  {
   "cell_type": "code",
   "execution_count": 70,
   "id": "8649ea41",
   "metadata": {},
   "outputs": [
    {
     "data": {
      "text/plain": [
       "300"
      ]
     },
     "execution_count": 70,
     "metadata": {},
     "output_type": "execute_result"
    }
   ],
   "source": [
    "arr2d.sum()"
   ]
  },
  {
   "cell_type": "code",
   "execution_count": 71,
   "id": "dd8c477f",
   "metadata": {},
   "outputs": [
    {
     "data": {
      "text/plain": [
       "array([50, 55, 60, 65, 70])"
      ]
     },
     "execution_count": 71,
     "metadata": {},
     "output_type": "execute_result"
    }
   ],
   "source": [
    "arr2d.sum(axis=0)"
   ]
  },
  {
   "cell_type": "markdown",
   "id": "bca0f7f1",
   "metadata": {},
   "source": [
    "In the above code, axis=0 means perform the operation across the col"
   ]
  },
  {
   "cell_type": "code",
   "execution_count": 73,
   "id": "33772a99",
   "metadata": {},
   "outputs": [
    {
     "data": {
      "text/plain": [
       "array([ 10,  35,  60,  85, 110])"
      ]
     },
     "execution_count": 73,
     "metadata": {},
     "output_type": "execute_result"
    }
   ],
   "source": [
    "arr2d.sum(axis=1)"
   ]
  },
  {
   "cell_type": "markdown",
   "id": "15839204",
   "metadata": {},
   "source": [
    "In the above code, axis=1 means perform the operation across the row"
   ]
  },
  {
   "cell_type": "code",
   "execution_count": null,
   "id": "902f5108",
   "metadata": {},
   "outputs": [],
   "source": []
  }
 ],
 "metadata": {
  "kernelspec": {
   "display_name": "Python 3 (ipykernel)",
   "language": "python",
   "name": "python3"
  },
  "language_info": {
   "codemirror_mode": {
    "name": "ipython",
    "version": 3
   },
   "file_extension": ".py",
   "mimetype": "text/x-python",
   "name": "python",
   "nbconvert_exporter": "python",
   "pygments_lexer": "ipython3",
   "version": "3.9.13"
  }
 },
 "nbformat": 4,
 "nbformat_minor": 5
}
